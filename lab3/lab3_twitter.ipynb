{
 "cells": [
  {
   "cell_type": "code",
   "execution_count": 3,
   "id": "cadfbf6a-eb1a-42c5-8d6c-1663b9dbb14a",
   "metadata": {},
   "outputs": [],
   "source": [
    "import json\n",
    "import csv\n",
    "import tweepy\n",
    "import re\n",
    "from tweepy import streaming\n",
    "import pandas as pd"
   ]
  },
  {
   "cell_type": "code",
   "execution_count": 15,
   "id": "880e986b-6aa2-4dcb-82bf-90e12b6580ff",
   "metadata": {},
   "outputs": [],
   "source": [
    "with open('twitter_credentials.json') as file:\n",
    "    credentials = json.load(file)\n",
    "\n",
    "consumer_key = credentials['consumer_key']\n",
    "consumer_secret = credentials['consumer_secret']\n",
    "access_token = credentials['access_token']\n",
    "access_token_secret = credentials['access_token_secret']"
   ]
  },
  {
   "cell_type": "code",
   "execution_count": 32,
   "id": "68fc3b91-7c6c-4266-b203-2819d17be39c",
   "metadata": {},
   "outputs": [],
   "source": [
    "auth = tweepy.OAuth1UserHandler(consumer_key, consumer_secret, access_token, access_token_secret)\n",
    "api = tweepy.API(auth)"
   ]
  },
  {
   "cell_type": "code",
   "execution_count": 26,
   "id": "416dee02-3957-4519-a1fe-e903e93fc49c",
   "metadata": {},
   "outputs": [
    {
     "name": "stdout",
     "output_type": "stream",
     "text": [
      "Authentication successful. User: Zorlinda Grumblebunch\n"
     ]
    }
   ],
   "source": [
    "try:\n",
    "    user = api.verify_credentials()\n",
    "    print(\"Authentication successful. User:\", user.name)\n",
    "except:\n",
    "    print(\"error\")"
   ]
  },
  {
   "cell_type": "code",
   "execution_count": 36,
   "id": "da42621d-a87e-48a1-bcd0-49b528918cb6",
   "metadata": {},
   "outputs": [],
   "source": [
    "username = 'BillGates'\n",
    "count = 10"
   ]
  },
  {
   "cell_type": "code",
   "execution_count": 39,
   "id": "102706a8-180c-470c-bbe3-ec2c6f0b4449",
   "metadata": {},
   "outputs": [
    {
     "name": "stdout",
     "output_type": "stream",
     "text": [
      "failed on_status, 403 Forbidden\n",
      "453 - You currently have access to a subset of Twitter API v2 endpoints and limited v1.1 endpoints (e.g. media post, oauth) only. If you need access to this endpoint, you may need a different access level. You can learn more here: https://developer.twitter.com/en/portal/product\n"
     ]
    }
   ],
   "source": [
    "try:\n",
    "    tweets = tweepy.Cursor(api.user_timeline,screen_name=username).items(count)\n",
    "    tweets_list = [[tweet.user.name, tweet.user.screen_name, tweet.created_at, tweet.id, tweet.text, tweet.favorite_count, tweet.retweet_count] for tweet in tweets]\n",
    "    tweets_df = pd.DataFrame(tweets_list, columns=['username', 'displayname', 'date', 'tweet id', 'tweet text', 'likes_number', 'retweets_number'])\n",
    "except BaseException as e:\n",
    "    print('failed on_status,',str(e))"
   ]
  }
 ],
 "metadata": {
  "kernelspec": {
   "display_name": "Python 3 (ipykernel)",
   "language": "python",
   "name": "python3"
  },
  "language_info": {
   "codemirror_mode": {
    "name": "ipython",
    "version": 3
   },
   "file_extension": ".py",
   "mimetype": "text/x-python",
   "name": "python",
   "nbconvert_exporter": "python",
   "pygments_lexer": "ipython3",
   "version": "3.12.2"
  }
 },
 "nbformat": 4,
 "nbformat_minor": 5
}
